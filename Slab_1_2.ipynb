{
  "nbformat": 4,
  "nbformat_minor": 0,
  "metadata": {
    "colab": {
      "provenance": [],
      "include_colab_link": true
    },
    "kernelspec": {
      "name": "python3",
      "display_name": "Python 3"
    },
    "language_info": {
      "name": "python"
    }
  },
  "cells": [
    {
      "cell_type": "markdown",
      "metadata": {
        "id": "view-in-github",
        "colab_type": "text"
      },
      "source": [
        "<a href=\"https://colab.research.google.com/github/Unp12/Intern-Slab_1-2/blob/main/Slab_1_2.ipynb\" target=\"_parent\"><img src=\"https://colab.research.google.com/assets/colab-badge.svg\" alt=\"Open In Colab\"/></a>"
      ]
    },
    {
      "cell_type": "code",
      "source": [
        "from bs4 import BeautifulSoup\n",
        "import requests"
      ],
      "metadata": {
        "id": "YHeqwiirXIKw"
      },
      "execution_count": null,
      "outputs": []
    },
    {
      "cell_type": "code",
      "source": [
        "# Define search query\n",
        "query = input(\"Enter Site Name :\")\n",
        "url = f\"https://html.duckduckgo.com/html/?q={query}\""
      ],
      "metadata": {
        "colab": {
          "base_uri": "https://localhost:8080/"
        },
        "id": "OmJ09nOXiLeP",
        "outputId": "cde5474f-b09d-4e18-8839-bfee799709d1"
      },
      "execution_count": null,
      "outputs": [
        {
          "name": "stdout",
          "output_type": "stream",
          "text": [
            "Enter Site Name :Flipkart\n"
          ]
        }
      ]
    },
    {
      "cell_type": "code",
      "source": [
        "# Perform the request\n",
        "response = requests.get(url, headers={\"User-Agent\": \"Mozilla/5.0\"})\n",
        "soup = BeautifulSoup(response.text, \"html.parser\")"
      ],
      "metadata": {
        "id": "sDr0_ITaiLaw"
      },
      "execution_count": null,
      "outputs": []
    },
    {
      "cell_type": "code",
      "source": [
        "for result in soup.find_all('div', class_='result'):  # Extracting result container\n",
        "    # Extract the title\n",
        "    title_element = result.find('a', class_='result__a')\n",
        "    title = title_element.text if title_element else \"No title\"\n",
        "\n",
        "    # Extract the link\n",
        "    link = title_element['href'] if title_element else \"No link\"\n",
        "\n",
        "    # Extract the description\n",
        "    description_element = result.find('a', class_='result__snippet')\n",
        "    description = description_element.text if description_element else \"No description\"\n",
        "\n",
        "    print(f\"Title: {title}\")\n",
        "    print(f\"Link: {link}\")\n",
        "    print(f\"Description: {description}\\n\")"
      ],
      "metadata": {
        "colab": {
          "base_uri": "https://localhost:8080/"
        },
        "id": "tdQ7VW_ti0q7",
        "outputId": "ced55e97-e7a8-4c2f-8faa-a438d1f33562"
      },
      "execution_count": null,
      "outputs": [
        {
          "output_type": "stream",
          "name": "stdout",
          "text": [
            "Title: Flipkart\n",
            "Link: //duckduckgo.com/l/?uddg=https%3A%2F%2Fwww.flipkart.com%2F&rut=e91d5adba2db5dd72bafb76a59b959e5757ca7ec0c0fbc08ef50bc79eb223ba1\n",
            "Description: Flipkart houses everything you can possibly imagine, from trending electronics like laptops, tablets, smartphones, and mobile accessories to in-vogue fashion staples like shoes, clothing and lifestyle accessories; from modern furniture like sofa sets, dining tables, and wardrobes to appliances that make your life easy like washing machines, TVs ...\n",
            "\n",
            "Title: Mobile Phones Online at Best Prices in India - Flipkart\n",
            "Link: //duckduckgo.com/l/?uddg=https%3A%2F%2Fwww.flipkart.com%2Fmobile%2Dphones%2Dstore&rut=2ed410a5198264ec27b35625906ef152aa874d8d46d934179be95821d388c035\n",
            "Description: Buy mobile phones at best prices. Flipkart is the right platform for you to look for a mobile phone that fits your budget, technical and design requirements as we have phones ranging from Rs 350 up to Rs 1,00,000+.\n",
            "\n",
            "Title: Online Shopping India | Buy Mobiles, Electronics, Appliances ... - Flipkart\n",
            "Link: //duckduckgo.com/l/?uddg=https%3A%2F%2Fwww.flipkart.com%2Fmobile%2Dapps&rut=b8bc12be784048ef4bf951b180cce173cd819bff56518bf860e16d3c1dd2b667\n",
            "Description: Flipkart Internet Private Limited, Buildings Alyssa, Begonia & Clove Embassy Tech Village, Outer Ring Road, Devarabeesanahalli Village, Bengaluru, 560103, Karnataka, India\n",
            "\n",
            "Title: All - Buy All Online at Best Prices In India | Flipkart.com\n",
            "Link: //duckduckgo.com/l/?uddg=https%3A%2F%2Fwww.flipkart.com%2Fall%2Fpr%3Fsid%3Dall&rut=0f6bc724339b3dcb3d2c26edc59702a2ec796df3188c71910d48e6f3f88e17a2\n",
            "Description: All - Shop All at India's Best Online Shopping Store. Check Price and Buy Online. Free Shipping Cash on Delivery Best Offers\n",
            "\n",
            "Title: All Categories - Flipkart\n",
            "Link: //duckduckgo.com/l/?uddg=https%3A%2F%2Fwww.flipkart.com%2Fsearch%3F%253F%253F%253F%253F%253F%2B%3D&rut=41fd863e97ea6e456153fd9671870bb4251f9056ed3b72c0486fe54cecc60f20\n",
            "Description: All Categories- Buy Products Online at Best Price in India. India's Leading E-commerce Company - Free Home Delivery - All Categories | Flipkart.com\n",
            "\n",
            "Title: All Categories- Buy Products Online at Best Price in India - Flipkart\n",
            "Link: //duckduckgo.com/l/?uddg=https%3A%2F%2Fwww.flipkart.com%2Fsearch%3F%3F%3F%3F%3F%3F%2520&rut=10f9413a9f0f7dcce2926f318df24de5eae00203de81e2977fc68db8238f0ce2\n",
            "Description: All Categories- Buy Products Online at Best Price in India. India's Leading E-commerce Company - Free Home Delivery - All Categories | Flipkart.com\n",
            "\n",
            "Title: Kitchen Appliances - Flipkart.com\n",
            "Link: //duckduckgo.com/l/?uddg=https%3A%2F%2Fdl.flipkart.com%2Fdl%2Fkitchen%2Dappliances%2Fpr%3Fsid%3Dm38&rut=bdd0ef6796bda70e5c97f6d3e94c353c3f9dc4340af3a24a6d13e6092d185de3\n",
            "Description: Kitchen Appliances - Buy Kitchen Appliances Online at Best Prices in India - Huge Collection of Home & Kitchen Products. - Free Home Delivery at Flipkart.com\n",
            "\n",
            "Title: Flipkart - Careers\n",
            "Link: //duckduckgo.com/l/?uddg=https%3A%2F%2Fwww.flipkartcareers.com%2F%3Ftrk%3Dtest%23!%2F&rut=aaad2a32bfd3e2f5fd6cea4037e59d0cfc9f9eed0e614f7720c855244812243e\n",
            "Description: Flipkart Interview questions, Flipkart Interview, Interviewing at Flipkart, Flipkart Interview process, Interview at Flipkart, Flipkart Interview Preparation, Flipkart Interview questions and answers, Flipkart most asked interview questions, Flipkart Interviews questions on Engineering, Flipkart Interviews questions on Product, Flipkart ...\n",
            "\n",
            "Title: Nothing Ear (2) 2023 | Dual chamber sound | Hi-res audio - Flipkart\n",
            "Link: //duckduckgo.com/l/?uddg=https%3A%2F%2Fwww.flipkart.com%2Fnothing%2Dear%2D2%2Ddual%2Dchamber%2Dsound%2Dhi%2Dres%2Daudio%2Dsmart%2Danc%2Dconnection%2Dbluetooth%2Dheadset%2Fp%2Fitmd0fdab5d8d2f6%3Fpid%3DACCGMW9ZZG2ADGSQ&rut=a22cf0586c9d232422b066226b2459494a4283fa7b758a183ba972ff302c222a\n",
            "Description: Buy Nothing Ear (2) 2023 | Dual chamber sound | Hi-res audio | Smart ANC | Dual connection Bluetooth for Rs.12999 Online, Also get Nothing Ear (2) 2023 | Dual chamber sound | Hi-res audio | Smart ANC | Dual connection Bluetooth Specs & Features. Only Genuine Products. 30 Day Replacement Guarantee. Free Shipping. Cash On Delivery!\n",
            "\n",
            "Title: Buy Smart TV Online at Best Prices In India - Flipkart\n",
            "Link: //duckduckgo.com/l/?uddg=https%3A%2F%2Fwww.flipkart.com%2Ftelevisions%2F~smart%2Dtvs%2D%2Fpr%3Fsid%3Dckf%2Cczl&rut=f56ce184bcf631a26444977309a92915cec0096fd0cbf3a5115d2f185b5db49a\n",
            "Description: Buy Smart TV (ஸ்மார்ட் டிவி) at India's Best Online Shopping Store. Choose from a huge range of smart led tv from brands like vu, samsung, sony & more. Best Deals COD\n",
            "\n"
          ]
        }
      ]
    }
  ]
}